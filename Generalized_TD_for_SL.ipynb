{
 "cells": [
  {
   "cell_type": "code",
   "execution_count": 7,
   "metadata": {},
   "outputs": [],
   "source": [
    "import numpy as np\n",
    "import matplotlib.pyplot as plt\n",
    "import torch\n",
    "from typing import Callable\n",
    "\n",
    "np.random.seed(42)"
   ]
  },
  {
   "cell_type": "code",
   "execution_count": 8,
   "metadata": {},
   "outputs": [],
   "source": [
    "def sample_next_state(index: int, P: np.ndarray) -> int:\n",
    "    probs = P[index]\n",
    "\n",
    "    next = np.random.choice(range(P.shape[1]), p=probs)\n",
    "\n",
    "    return int(next)"
   ]
  },
  {
   "cell_type": "code",
   "execution_count": 9,
   "metadata": {},
   "outputs": [],
   "source": [
    "def td_loop(\n",
    "        n_iter: int, \n",
    "        X: np.ndarray, \n",
    "        y: np.ndarray, \n",
    "        P: np.ndarray,\n",
    "        link: Callable[[np.ndarray], np.ndarray], \n",
    "        inv_link: Callable[[np.ndarray], np.ndarray], \n",
    "        gamma: float, \n",
    "        alpha: float,\n",
    "        epsilon: float,\n",
    "    ) -> np.ndarray:\n",
    "    n_samples = X.shape[0]\n",
    "    n_features = X.shape[1]\n",
    "\n",
    "    w = np.zeros(n_features)\n",
    "\n",
    "    curr_index = int(np.random.randint(n_samples))\n",
    "    curr_x = X[curr_index]\n",
    "    curr_y = y[curr_index]\n",
    "\n",
    "    i = 0\n",
    "    grad = np.ones_like(w)\n",
    "\n",
    "    while i < n_iter and np.linalg.norm(alpha * grad, 2) > epsilon:\n",
    "        # Next state samples\n",
    "        next_index = sample_next_state(index=curr_index, P=P)\n",
    "        next_x = X[next_index]\n",
    "        next_y = y[next_index]\n",
    "\n",
    "        # Find rewards\n",
    "        r = inv_link(curr_y) - gamma * inv_link(next_y)\n",
    "\n",
    "        # TD target\n",
    "        z = r + gamma * np.dot(next_x, w)\n",
    "\n",
    "        # Find gradient\n",
    "        grad = (link(np.dot(curr_x, w)) - link(z)) * curr_x\n",
    "\n",
    "        # Update weights\n",
    "        w -= alpha * grad\n",
    "        \n",
    "        # Update state and index\n",
    "        curr_index, curr_x, curr_y = next_index, next_x, next_y\n",
    "        i += 1\n",
    "\n",
    "    return w"
   ]
  },
  {
   "cell_type": "code",
   "execution_count": 10,
   "metadata": {},
   "outputs": [],
   "source": [
    "# Generate synthetic data\n",
    "num_samples = 100\n",
    "num_features = 3\n",
    "\n",
    "X = np.random.randn(num_samples, num_features)\n",
    "true_w = np.array([2.0, -3.5, 1.0])\n",
    "y = X @ true_w + np.random.randn(num_samples) * 0.1  # Adding noise\n",
    "\n",
    "alpha = 0.01  # Learning rate\n",
    "gamma = 0.9   # Discount factor\n",
    "num_iterations = 1e6  # Number of iterations\n",
    "epsilon = 1e-7\n",
    "\n",
    "P = np.ones((num_samples, num_samples)) / num_samples # Equal probability to move to any state"
   ]
  },
  {
   "cell_type": "code",
   "execution_count": 11,
   "metadata": {},
   "outputs": [
    {
     "name": "stdout",
     "output_type": "stream",
     "text": [
      "[ 2.00494837 -3.50096249  0.99077277]\n",
      "Error: 0.01051\n"
     ]
    }
   ],
   "source": [
    "w_hat = td_loop(\n",
    "    n_iter=num_iterations,\n",
    "    X=X,\n",
    "    y=y,\n",
    "    P=P,\n",
    "    link=lambda x : x,\n",
    "    inv_link=lambda x : x,\n",
    "    gamma=gamma,\n",
    "    alpha=alpha,\n",
    "    epsilon=epsilon,\n",
    ")\n",
    "\n",
    "error = np.linalg.norm(w_hat - true_w, 2)\n",
    "\n",
    "print(w_hat)\n",
    "print(f'Error: {error:.5f}')"
   ]
  }
 ],
 "metadata": {
  "kernelspec": {
   "display_name": ".venv",
   "language": "python",
   "name": "python3"
  },
  "language_info": {
   "codemirror_mode": {
    "name": "ipython",
    "version": 3
   },
   "file_extension": ".py",
   "mimetype": "text/x-python",
   "name": "python",
   "nbconvert_exporter": "python",
   "pygments_lexer": "ipython3",
   "version": "3.10.11"
  }
 },
 "nbformat": 4,
 "nbformat_minor": 2
}
