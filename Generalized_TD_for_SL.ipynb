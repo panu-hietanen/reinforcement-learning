{
 "cells": [
  {
   "cell_type": "code",
   "execution_count": 47,
   "metadata": {},
   "outputs": [],
   "source": [
    "import numpy as np\n",
    "import matplotlib.pyplot as plt\n",
    "import torch\n",
    "from typing import Callable\n",
    "\n",
    "from sklearn.model_selection import train_test_split\n",
    "from sklearn.linear_model import Ridge\n",
    "from sklearn.metrics import mean_squared_error\n",
    "\n",
    "np.random.seed(42)"
   ]
  },
  {
   "cell_type": "code",
   "execution_count": 40,
   "metadata": {},
   "outputs": [],
   "source": [
    "def sample_next_state(index: int, P: np.ndarray) -> int:\n",
    "    probs = P[index]\n",
    "\n",
    "    next = np.random.choice(range(P.shape[1]), p=probs)\n",
    "\n",
    "    return int(next)"
   ]
  },
  {
   "cell_type": "code",
   "execution_count": 41,
   "metadata": {},
   "outputs": [],
   "source": [
    "def td_loop(\n",
    "        n_iter: int, \n",
    "        X: np.ndarray, \n",
    "        y: np.ndarray, \n",
    "        P: np.ndarray,\n",
    "        link: Callable[[np.ndarray], np.ndarray], \n",
    "        inv_link: Callable[[np.ndarray], np.ndarray], \n",
    "        gamma: float, \n",
    "        alpha: float,\n",
    "        epsilon: float,\n",
    "    ) -> np.ndarray:\n",
    "    n_samples = X.shape[0]\n",
    "    n_features = X.shape[1]\n",
    "\n",
    "    w = np.zeros(n_features)\n",
    "\n",
    "    curr_index = int(np.random.randint(n_samples))\n",
    "    curr_x = X[curr_index]\n",
    "    curr_y = y[curr_index]\n",
    "\n",
    "    i = 0\n",
    "    grad = np.ones_like(w) * np.inf\n",
    "\n",
    "    while i < n_iter and np.linalg.norm(alpha * grad, 2) > epsilon:\n",
    "        # Next state samples\n",
    "        next_index = sample_next_state(index=curr_index, P=P)\n",
    "        next_x = X[next_index]\n",
    "        next_y = y[next_index]\n",
    "\n",
    "        # Find predictions\n",
    "        curr_z = np.dot(curr_x, w)\n",
    "        next_z = np.dot(next_x, w)\n",
    "\n",
    "        # Find rewards\n",
    "        r = inv_link(curr_y) - gamma * inv_link(next_y)\n",
    "\n",
    "        # TD target\n",
    "        z_t = r + gamma * next_z\n",
    "\n",
    "        # Find gradient\n",
    "        grad = (link(curr_z) - link(z_t)) * curr_x\n",
    "\n",
    "        # Update weights\n",
    "        w -= alpha * grad\n",
    "        \n",
    "        # Update state and index\n",
    "        curr_index, curr_x, curr_y = next_index, next_x, next_y\n",
    "        i += 1\n",
    "\n",
    "    return w"
   ]
  },
  {
   "cell_type": "code",
   "execution_count": 42,
   "metadata": {},
   "outputs": [],
   "source": [
    "# Generate synthetic data\n",
    "num_samples = 100\n",
    "num_features = 3\n",
    "\n",
    "X = np.random.randn(num_samples, num_features)\n",
    "true_w = np.array([2.0, -3.5, 1.0])\n",
    "y = X @ true_w + np.random.randn(num_samples) * 0.1  # Adding noise\n",
    "\n",
    "alpha = 0.01  # Learning rate\n",
    "gamma = 0.9   # Discount factor\n",
    "num_iterations = 1e6  # Number of iterations\n",
    "epsilon = 1e-7\n",
    "\n",
    "P = np.ones((num_samples, num_samples)) / num_samples # Equal probability to move to any state"
   ]
  },
  {
   "cell_type": "code",
   "execution_count": 43,
   "metadata": {},
   "outputs": [
    {
     "name": "stdout",
     "output_type": "stream",
     "text": [
      "[ 2.00494837 -3.50096249  0.99077277]\n",
      "Error: 0.01051\n"
     ]
    }
   ],
   "source": [
    "w_hat = td_loop(\n",
    "    n_iter=num_iterations,\n",
    "    X=X,\n",
    "    y=y,\n",
    "    P=P,\n",
    "    link=lambda x : x,\n",
    "    inv_link=lambda x : x,\n",
    "    gamma=gamma,\n",
    "    alpha=alpha,\n",
    "    epsilon=epsilon,\n",
    ")\n",
    "\n",
    "error = np.linalg.norm(w_hat - true_w, 2)\n",
    "\n",
    "print(w_hat)\n",
    "print(f'Error: {error:.5f}')"
   ]
  },
  {
   "cell_type": "code",
   "execution_count": 44,
   "metadata": {},
   "outputs": [
    {
     "name": "stdout",
     "output_type": "stream",
     "text": [
      "[ -8.76539474   4.43378117   0.13628616   2.57877857  -9.02437005\n",
      "  17.1000068    0.9618252  -15.70967281   6.32962149  -5.73996826\n",
      "  -8.60956028   3.07264343 -20.06971951]\n",
      "Intercept: 28.311813184508072\n",
      "Model R^2 score: 0.7780162544000442\n"
     ]
    }
   ],
   "source": [
    "housedata = np.loadtxt('data\\\\readyhousedata.txt', delimiter=',')\n",
    "\n",
    "# Separate features (X) and target (y)\n",
    "X = housedata[:, :-1]  # All columns except the last\n",
    "y = housedata[:, -1]   # The last column\n",
    "\n",
    "X_train, X_test, y_train, y_test = train_test_split(X, y, test_size=0.2, random_state=42)\n",
    "\n",
    "ridge_reg = Ridge(alpha=0.5) \n",
    "ridge_reg.fit(X_train, y_train)\n",
    "\n",
    "weights = ridge_reg.coef_\n",
    "intercept = ridge_reg.intercept_\n",
    "\n",
    "print(weights)\n",
    "print(\"Intercept:\", intercept)\n",
    "\n",
    "score = ridge_reg.score(X_test, y_test)\n",
    "print(\"Model R^2 score:\", score)"
   ]
  },
  {
   "cell_type": "code",
   "execution_count": 45,
   "metadata": {},
   "outputs": [
    {
     "name": "stdout",
     "output_type": "stream",
     "text": [
      "[ -4.87956743   5.41510283   1.71360406   2.87707084  -1.72569767\n",
      "  30.70445873   4.43625135  -2.03672037   3.67499225  -3.50890074\n",
      "  -3.66858579  10.04479166 -15.41765695]\n"
     ]
    }
   ],
   "source": [
    "num_samples = X_train.shape[0]\n",
    "P = np.ones((num_samples, num_samples)) / num_samples # Equal probability to move to any state\n",
    "\n",
    "alpha = 0.001  # Learning rate\n",
    "gamma = 0.8   # Discount factor\n",
    "num_iterations = 1e5  # Number of iterations\n",
    "epsilon = 1e-8\n",
    "\n",
    "w_hat_house = td_loop(\n",
    "    n_iter=num_iterations,\n",
    "    X=X_train,\n",
    "    y=y_train,\n",
    "    P=P,\n",
    "    link=lambda x : x,\n",
    "    inv_link=lambda x : x,\n",
    "    gamma=gamma,\n",
    "    alpha=alpha,\n",
    "    epsilon=epsilon,\n",
    ")\n",
    "\n",
    "print(w_hat_house)"
   ]
  },
  {
   "cell_type": "code",
   "execution_count": 48,
   "metadata": {},
   "outputs": [
    {
     "name": "stdout",
     "output_type": "stream",
     "text": [
      "RMSE on the test set using TD: 4.295622700002231\n",
      "RMSE on the test set using L2 Regression: 4.109007658427198\n"
     ]
    }
   ],
   "source": [
    "pred_TD = np.dot(X_test, w_hat_house)\n",
    "pred_L2 = ridge_reg.predict(X_test)\n",
    "\n",
    "rmse_TD = np.sqrt(mean_squared_error(y_test, pred_TD))\n",
    "rmse_L2 = np.sqrt(mean_squared_error(y_test, pred_L2))\n",
    "\n",
    "print(\"RMSE on the test set using TD:\", rmse_TD)\n",
    "print(\"RMSE on the test set using L2 Regression:\", rmse_L2)\n"
   ]
  }
 ],
 "metadata": {
  "kernelspec": {
   "display_name": ".venv",
   "language": "python",
   "name": "python3"
  },
  "language_info": {
   "codemirror_mode": {
    "name": "ipython",
    "version": 3
   },
   "file_extension": ".py",
   "mimetype": "text/x-python",
   "name": "python",
   "nbconvert_exporter": "python",
   "pygments_lexer": "ipython3",
   "version": "3.10.11"
  }
 },
 "nbformat": 4,
 "nbformat_minor": 2
}
