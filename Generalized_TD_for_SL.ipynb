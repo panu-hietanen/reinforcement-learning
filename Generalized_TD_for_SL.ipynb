{
 "cells": [
  {
   "cell_type": "code",
   "execution_count": 1,
   "metadata": {},
   "outputs": [
    {
     "data": {
      "text/plain": [
       "<torch._C.Generator at 0x2549705dab0>"
      ]
     },
     "execution_count": 1,
     "metadata": {},
     "output_type": "execute_result"
    }
   ],
   "source": [
    "import torch\n",
    "import matplotlib.pyplot as plt\n",
    "import torch\n",
    "\n",
    "from utils.TD import TD_SGD, TD_Adam\n",
    "from utils.TD_NN import TD_NN_Adam, TD_NN_SGD\n",
    "\n",
    "from sklearn.model_selection import train_test_split\n",
    "from sklearn.linear_model import LinearRegression\n",
    "from sklearn.metrics import mean_squared_error\n",
    "\n",
    "import numpy as np\n",
    "\n",
    "seed = 42\n",
    "torch.manual_seed(seed)"
   ]
  },
  {
   "cell_type": "code",
   "execution_count": 2,
   "metadata": {},
   "outputs": [
    {
     "name": "stdout",
     "output_type": "stream",
     "text": [
      "Weights learned using LR:\n",
      " tensor([-10.9937,   5.0058,   0.6358,   2.4487, -10.3119,  17.5176,   1.0312,\n",
      "        -17.7757,   7.3409,  -6.4276,  -8.7997,   3.0356, -20.5194])\n",
      "Intercept: tensor(29.0443)\n",
      "Model R^2 score: 0.7730569243431091\n"
     ]
    }
   ],
   "source": [
    "housedata = torch.tensor(np.loadtxt('data\\\\readyhousedata.txt', delimiter=','), dtype=torch.float32)\n",
    "\n",
    "X = housedata[:, :-1]\n",
    "y = housedata[:, -1]\n",
    "\n",
    "X_train, X_test, y_train, y_test = train_test_split(X, y, test_size=0.2, random_state=42)\n",
    "\n",
    "reg = LinearRegression() \n",
    "reg.fit(X_train, y_train)\n",
    "\n",
    "weights = torch.tensor(reg.coef_)\n",
    "intercept = torch.tensor(reg.intercept_)\n",
    "\n",
    "print(\"Weights learned using LR:\\n\", weights)\n",
    "print(\"Intercept:\", intercept)\n",
    "\n",
    "score = reg.score(X_test, y_test)\n",
    "print(\"Model R^2 score:\", score)"
   ]
  },
  {
   "cell_type": "code",
   "execution_count": 3,
   "metadata": {},
   "outputs": [
    {
     "name": "stdout",
     "output_type": "stream",
     "text": [
      "Weights learned using TD SGD:\n",
      " tensor([-1.0654e+01,  4.9181e+00,  9.4121e-03,  1.4318e+00, -1.0087e+01,\n",
      "         1.7143e+01,  8.6331e-01, -1.7416e+01,  7.2050e+00, -6.5871e+00,\n",
      "        -8.0881e+00,  2.8847e+00, -2.0169e+01])\n"
     ]
    }
   ],
   "source": [
    "num_samples, num_features = X_train.shape\n",
    "P = torch.ones((num_samples, num_samples)) / num_samples # Equal probability to move to any state\n",
    "\n",
    "alpha = 0.01  # Learning rate\n",
    "gamma = 0   # Discount factor\n",
    "num_iterations = 1e5  # Number of iterations\n",
    "epsilon = 1e-9\n",
    "\n",
    "td_sgd = TD_SGD(\n",
    "    n_iter=num_iterations,\n",
    "    P=P,\n",
    "    link=lambda x : x,\n",
    "    inv_link=lambda x : x,\n",
    "    gamma=gamma,\n",
    "    alpha=alpha,\n",
    "    epsilon=epsilon,\n",
    "    random_state=seed,\n",
    ")\n",
    "\n",
    "td_sgd.fit(X_train, y_train)\n",
    "\n",
    "w_hat_house = td_sgd.weights\n",
    "bias_house = td_sgd.bias\n",
    "\n",
    "print(\"Weights learned using TD SGD:\\n\", w_hat_house)"
   ]
  },
  {
   "cell_type": "code",
   "execution_count": 4,
   "metadata": {},
   "outputs": [
    {
     "name": "stdout",
     "output_type": "stream",
     "text": [
      "Ending optimization early at iteration 85489\n",
      "Weights learned using TD Adam:\n",
      " tensor([-12.1528,   4.4889,   0.4160,   1.6978,  -9.6249,  16.9506,   1.4479,\n",
      "        -18.0856,   7.0949,  -6.5179,  -8.8375,   2.6827, -21.3809])\n"
     ]
    }
   ],
   "source": [
    "alpha = 0.05  # Learning rate\n",
    "gamma = 0   # Discount factor\n",
    "num_iterations = 1e5  # Number of iterations\n",
    "epsilon = 1e-9\n",
    "\n",
    "td_adam = TD_Adam(\n",
    "    n_iter=num_iterations,\n",
    "    P=P,\n",
    "    link=lambda x : x,\n",
    "    inv_link=lambda x : x,\n",
    "    gamma=gamma,\n",
    "    alpha=alpha,\n",
    "    epsilon=epsilon,\n",
    "    random_state=seed,\n",
    ")\n",
    "\n",
    "td_adam.fit(X_train, y_train)\n",
    "\n",
    "print(\"Weights learned using TD Adam:\\n\", td_adam.weights)"
   ]
  },
  {
   "cell_type": "code",
   "execution_count": 24,
   "metadata": {},
   "outputs": [
    {
     "name": "stdout",
     "output_type": "stream",
     "text": [
      "Ending optimization early at iteration 6848\n",
      "RMSE on test set: 3.1640\n"
     ]
    }
   ],
   "source": [
    "# Initialize the TD_NN_SGD model\n",
    "td_nn_sgd = TD_NN_Adam(\n",
    "    n_iter=1e5,\n",
    "    P=P,\n",
    "    link=lambda x : x,\n",
    "    inv_link=lambda x : x,\n",
    "    gamma=0,\n",
    "    alpha=0.001,\n",
    "    epsilon=1e-6,\n",
    "    input_size=num_features,\n",
    ")\n",
    "\n",
    "# Fit the model\n",
    "td_nn_sgd.fit(X_train, y_train)\n",
    "\n",
    "# Evaluate the model\n",
    "rmse = td_nn_sgd.rmse(X_test, y_test)\n",
    "print(f\"RMSE on test set: {rmse:.4f}\")"
   ]
  },
  {
   "cell_type": "code",
   "execution_count": 6,
   "metadata": {},
   "outputs": [
    {
     "name": "stdout",
     "output_type": "stream",
     "text": [
      "RMSE on the test set using TD SGD: 4.25275182723999\n",
      "RMSE on the test set using TD Adam: 4.218838214874268\n",
      "RMSE on the test set using L2 Regression: 4.154654026031494\n",
      "---------------\n",
      "Norm of difference in weights for L2 and TD SGD: 1.6105726957321167\n",
      "Norm of difference in weights for L2 and TD Adam: 2.0549962520599365\n"
     ]
    }
   ],
   "source": [
    "pred_TD_sgd = td_sgd.predict(X_test)\n",
    "pred_TD_adam = td_adam.predict(X_test)\n",
    "pred_L2 = reg.predict(X_test)\n",
    "\n",
    "rmse_TD_sgd = td_sgd.rmse(X_test, y_test)\n",
    "rmse_TD_adam = td_adam.rmse(X_test, y_test)\n",
    "rmse_L2 = torch.sqrt(torch.tensor(mean_squared_error(y_test, pred_L2)))\n",
    "\n",
    "print(f\"RMSE on the test set using TD SGD: {rmse_TD_sgd}\")\n",
    "print(f\"RMSE on the test set using TD Adam: {rmse_TD_adam}\")\n",
    "print(f\"RMSE on the test set using L2 Regression: {rmse_L2}\")\n",
    "print(\"---------------\")\n",
    "print(f\"Norm of difference in weights for L2 and TD SGD: {torch.norm(weights - td_sgd.weights, 2)}\")\n",
    "print(f\"Norm of difference in weights for L2 and TD Adam: {torch.norm(weights - td_adam.weights, 2)}\")\n"
   ]
  }
 ],
 "metadata": {
  "kernelspec": {
   "display_name": ".venv",
   "language": "python",
   "name": "python3"
  },
  "language_info": {
   "codemirror_mode": {
    "name": "ipython",
    "version": 3
   },
   "file_extension": ".py",
   "mimetype": "text/x-python",
   "name": "python",
   "nbconvert_exporter": "python",
   "pygments_lexer": "ipython3",
   "version": "3.10.11"
  }
 },
 "nbformat": 4,
 "nbformat_minor": 2
}
