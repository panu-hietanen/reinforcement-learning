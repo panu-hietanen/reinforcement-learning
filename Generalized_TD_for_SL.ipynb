{
 "cells": [
  {
   "cell_type": "code",
   "execution_count": 2,
   "metadata": {},
   "outputs": [],
   "source": [
    "import numpy as np\n",
    "import matplotlib.pyplot as plt\n",
    "import torch"
   ]
  },
  {
   "cell_type": "code",
   "execution_count": null,
   "metadata": {},
   "outputs": [],
   "source": [
    "def sample_next_state(index: int, P: np.ndarray):\n",
    "    probs = P[index]\n",
    "\n",
    "    next = np.random.choice(range(P.shape[1]), probs)\n",
    "\n",
    "    return next"
   ]
  },
  {
   "cell_type": "code",
   "execution_count": null,
   "metadata": {},
   "outputs": [],
   "source": [
    "def td_loop(\n",
    "        n_iter: int, \n",
    "        X: np.ndarray, \n",
    "        y: np.ndarray, \n",
    "        P: np.ndarray,\n",
    "        link: callable[np.ndarray, np.ndarray], \n",
    "        inv_link: callable[np.ndarray, np.ndarray], \n",
    "        gamma: float, \n",
    "        alpha: float\n",
    "        ) -> np.ndarray:\n",
    "    n_samples = X.shape[0]\n",
    "    n_features = X.shape[1]\n",
    "\n",
    "    w = np.zeros(n_features)\n",
    "\n",
    "    curr_index = np.random.randint(n_samples)\n",
    "    curr_x = X[curr_index]\n",
    "    curr_y = y[curr_index]\n",
    "\n",
    "    for i in range(n_iter):\n",
    "        # Next state samples\n",
    "        next_index = sample_next_state(index=curr_index, P=P)\n",
    "        next_x = X[next_index]\n",
    "        next_y = y[next_index]\n",
    "\n",
    "        # Find rewards\n",
    "        r = inv_link(curr_y) - gamma * inv_link(next_y)\n",
    "\n",
    "        # TD target\n",
    "        z = r + gamma * np.dot(next_x, w)\n",
    "\n",
    "        grad = (link(np.dot(curr_x, w)) - link(z)) * curr_x\n",
    "\n",
    "        w -= alpha * grad\n",
    "\n",
    "        curr_index, curr_x, curr_y = next_index, next_x, next_y"
   ]
  }
 ],
 "metadata": {
  "kernelspec": {
   "display_name": ".venv",
   "language": "python",
   "name": "python3"
  },
  "language_info": {
   "codemirror_mode": {
    "name": "ipython",
    "version": 3
   },
   "file_extension": ".py",
   "mimetype": "text/x-python",
   "name": "python",
   "nbconvert_exporter": "python",
   "pygments_lexer": "ipython3",
   "version": "3.10.11"
  }
 },
 "nbformat": 4,
 "nbformat_minor": 2
}
