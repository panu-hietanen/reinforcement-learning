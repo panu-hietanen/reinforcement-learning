{
 "cells": [
  {
   "cell_type": "code",
   "execution_count": 11,
   "metadata": {},
   "outputs": [
    {
     "data": {
      "text/plain": [
       "<torch._C.Generator at 0x1c7a845daf0>"
      ]
     },
     "execution_count": 11,
     "metadata": {},
     "output_type": "execute_result"
    }
   ],
   "source": [
    "import torch\n",
    "import matplotlib.pyplot as plt\n",
    "import torch\n",
    "\n",
    "from utils.TD_NN import TemporalDifferenceNN\n",
    "\n",
    "from sklearn.model_selection import train_test_split\n",
    "from sklearn.linear_model import LinearRegression\n",
    "from sklearn.metrics import mean_squared_error\n",
    "\n",
    "import numpy as np\n",
    "\n",
    "seed = 42\n",
    "torch.manual_seed(seed)"
   ]
  },
  {
   "cell_type": "code",
   "execution_count": 12,
   "metadata": {},
   "outputs": [
    {
     "name": "stdout",
     "output_type": "stream",
     "text": [
      "Weights learned using LR:\n",
      " tensor([-10.9937,   5.0058,   0.6358,   2.4487, -10.3119,  17.5176,   1.0312,\n",
      "        -17.7757,   7.3409,  -6.4276,  -8.7997,   3.0356, -20.5194])\n",
      "Intercept: tensor(29.0443)\n",
      "Model R^2 score: 0.7730569243431091\n",
      "RMSE on test set: 4.1547\n"
     ]
    }
   ],
   "source": [
    "housedata = torch.tensor(np.loadtxt('data\\\\readyhousedata.txt', delimiter=','), dtype=torch.float32)\n",
    "\n",
    "X = housedata[:, :-1]\n",
    "y = housedata[:, -1]\n",
    "\n",
    "X_train, X_test, y_train, y_test = train_test_split(X, y, test_size=0.2, random_state=42)\n",
    "\n",
    "reg = LinearRegression() \n",
    "reg.fit(X_train, y_train)\n",
    "\n",
    "weights = torch.tensor(reg.coef_)\n",
    "intercept = torch.tensor(reg.intercept_)\n",
    "\n",
    "print(\"Weights learned using LR:\\n\", weights)\n",
    "print(\"Intercept:\", intercept)\n",
    "\n",
    "score = reg.score(X_test, y_test)\n",
    "print(\"Model R^2 score:\", score)\n",
    "\n",
    "print(f\"RMSE on test set: {torch.sqrt(torch.tensor(mean_squared_error(y_test, reg.predict(X_test)))):.4f}\")\n"
   ]
  },
  {
   "cell_type": "code",
   "execution_count": 13,
   "metadata": {},
   "outputs": [],
   "source": [
    "def mini_batch_sgd(\n",
    "        X: np.ndarray, \n",
    "        y: np.ndarray, \n",
    "        learning_rate: float, \n",
    "        n_iter: int, \n",
    "        batch_size: int,\n",
    "        epsilon: float = 0, \n",
    "    ) -> np.ndarray:\n",
    "    \"\"\"\n",
    "    Performs Mini-Batch Stochastic Gradient Descent (SGD) for linear regression with shuffling.\n",
    "    \n",
    "    Parameters:\n",
    "    X (np.ndarray): Feature matrix (n_samples, n_features).\n",
    "    y (np.ndarray): Target vector (n_samples,).\n",
    "    learning_rate (float): Step size for updating weights.\n",
    "    n_iter (int): Number of iterations (epochs).\n",
    "    epsilon (float): Convergence threshold.\n",
    "    batch_size (int): Size of the mini-batches.\n",
    "    \n",
    "    Returns:\n",
    "    np.ndarray: The learned weights.\n",
    "    \"\"\"\n",
    "    n_samples, n_features = X.shape\n",
    "    # Add bias term to the feature matrix\n",
    "    X_bias = np.c_[np.ones(n_samples), X]  # Adds a column of ones for the bias term\n",
    "\n",
    "    # Initialize weights to zeros\n",
    "    weights = np.zeros(n_features + 1)\n",
    "\n",
    "    for epoch in range(int(n_iter)):\n",
    "        indices = np.arange(n_samples)\n",
    "        np.random.shuffle(indices)\n",
    "        X_bias_shuffled = X_bias[indices]\n",
    "        y_shuffled = y[indices]\n",
    "\n",
    "        for i in range(0, n_samples, batch_size):\n",
    "            X_batch = X_bias_shuffled[i:i + batch_size]\n",
    "            y_batch = y_shuffled[i:i + batch_size]\n",
    "            \n",
    "            # Initialize gradients to zero\n",
    "            gradient = np.zeros_like(weights)\n",
    "            \n",
    "            # Compute the gradient over the mini-batch\n",
    "            for j in range(X_batch.shape[0]):\n",
    "                # Prediction\n",
    "                prediction = np.dot(X_batch[j], weights)\n",
    "                error = y_batch[j] - prediction\n",
    "                \n",
    "                # Update gradient\n",
    "                gradient += -2 * X_batch[j] * error\n",
    "\n",
    "            # Update the weights\n",
    "            weights -= learning_rate * gradient / batch_size\n",
    "\n",
    "        # Check for convergence (if gradient is small enough)\n",
    "        if np.linalg.norm(gradient) < epsilon:\n",
    "            print(f\"Converged after {epoch + 1} epochs\")\n",
    "            break\n",
    "\n",
    "    return weights\n",
    "\n",
    "X_train_np = np.array(X_train)\n",
    "X_test_np = np.array(X_test)\n",
    "y_train_np = np.array(y_train)\n",
    "y_test_np = np.array(y_test)\n",
    "\n",
    "w_sgd = mini_batch_sgd(\n",
    "    X_train_np,\n",
    "    y_train_np,\n",
    "    learning_rate=0.01,\n",
    "    n_iter=1e4,\n",
    "    batch_size=32\n",
    ")\n"
   ]
  },
  {
   "cell_type": "code",
   "execution_count": 14,
   "metadata": {},
   "outputs": [],
   "source": [
    "num_samples, num_features = X_train.shape\n",
    "P = torch.ones((num_samples, num_samples)) / num_samples # Equal probability to move to any state\n",
    "\n",
    "identity = lambda x : x"
   ]
  },
  {
   "cell_type": "code",
   "execution_count": 15,
   "metadata": {},
   "outputs": [
    {
     "name": "stdout",
     "output_type": "stream",
     "text": [
      "Training finished. Final epoch loss: 146.8429047511174\n",
      "RMSE on test set: 2.6127\n"
     ]
    }
   ],
   "source": [
    "# Initialize the TD_NN_SGD model\n",
    "td_nn_sgd = TemporalDifferenceNN(\n",
    "    optimizer='sgd',\n",
    "    P=P,\n",
    "    link=identity,\n",
    "    inv_link=identity,\n",
    "    gamma=0,\n",
    "    learning_rate=0.001,\n",
    "    epsilon=10,\n",
    "    input_size=num_features,\n",
    ")\n",
    "\n",
    "# Fit the model\n",
    "td_nn_sgd.fit(X_train, y_train, epochs=800)\n",
    "\n",
    "# Evaluate the model\n",
    "rmse = td_nn_sgd.rmse(X_test, y_test)\n",
    "print(f\"RMSE on test set: {rmse:.4f}\")"
   ]
  },
  {
   "cell_type": "code",
   "execution_count": 16,
   "metadata": {},
   "outputs": [],
   "source": [
    "from utils.TD import TemporalDifferenceLinear\n",
    "\n",
    "td_sgd = TemporalDifferenceLinear(\n",
    "    optimizer='sgd',\n",
    "    input_size=num_features,\n",
    "    learning_rate=0.01,\n",
    "    gamma=0,\n",
    "    epsilon=0,\n",
    "    n_iter=1e5,\n",
    "    P=P,\n",
    "    link=identity,\n",
    "    inv_link=identity,\n",
    ")\n",
    "\n",
    "td_sgd.fit(X_train, y_train)"
   ]
  },
  {
   "cell_type": "code",
   "execution_count": 17,
   "metadata": {},
   "outputs": [
    {
     "name": "stdout",
     "output_type": "stream",
     "text": [
      "Norm of difference in weights for L2 and TD SGD: 2.0422887802124023\n",
      "RMSE on the test set using TD SGD: 4.173651695251465\n"
     ]
    }
   ],
   "source": [
    "print(f\"Norm of difference in weights for L2 and TD SGD: {torch.norm(weights - td_sgd.model.weight.data, 2)}\")\n",
    "print(f\"RMSE on the test set using TD SGD: {td_sgd.rmse(X_test, y_test)}\")"
   ]
  },
  {
   "cell_type": "code",
   "execution_count": 21,
   "metadata": {},
   "outputs": [
    {
     "name": "stdout",
     "output_type": "stream",
     "text": [
      "RMSE on the test set using TD SGD: 2.612731695175171\n",
      "RMSE on the test set using L2 linear Regression: 4.154654026031494\n",
      "---------------\n",
      "Absolute difference between values: 8.702795028686523\n",
      "Norm of difference in weights for L2 and SGD: 0.008345226757228374\n",
      "Norm of difference in weights for TD SGD and L2 SGD: 2.047274351119995\n"
     ]
    }
   ],
   "source": [
    "pred_L2 = reg.predict(X_test)\n",
    "pred_sgd = td_nn_sgd.predict(X_test)\n",
    "\n",
    "rmse_TD_sgd = td_nn_sgd.rmse(X_test, y_test)\n",
    "# rmse_TD_adam = td_adam.rmse(X_test, y_test)\n",
    "rmse_L2 = torch.sqrt(torch.tensor(mean_squared_error(y_test, pred_L2)))\n",
    "\n",
    "print(f\"RMSE on the test set using TD SGD: {rmse_TD_sgd}\")\n",
    "# print(f\"RMSE on the test set using TD Adam: {rmse_TD_adam}\")\n",
    "print(f\"RMSE on the test set using L2 linear Regression: {rmse_L2}\")\n",
    "print(\"---------------\")\n",
    "print(f\"Absolute difference between values: {torch.mean(torch.abs(torch.Tensor(pred_L2) - pred_sgd))}\")\n",
    "print(f\"Norm of difference in weights for L2 and SGD: {torch.norm(weights - torch.Tensor(w_sgd[1:]), 2)}\")\n",
    "print(f\"Norm of difference in weights for TD SGD and L2 SGD: {torch.norm(td_sgd.model.weight.data - torch.Tensor(w_sgd[1:]), 2)}\")\n"
   ]
  },
  {
   "cell_type": "code",
   "execution_count": 22,
   "metadata": {},
   "outputs": [
    {
     "name": "stdout",
     "output_type": "stream",
     "text": [
      "Norm of difference in weights for L2 and TD SGD: 2.0422887802124023\n",
      "RMSE on the test set using TD SGD: 4.173651695251465\n"
     ]
    },
    {
     "ename": "",
     "evalue": "",
     "output_type": "error",
     "traceback": [
      "\u001b[1;31mThe Kernel crashed while executing code in the current cell or a previous cell. \n",
      "\u001b[1;31mPlease review the code in the cell(s) to identify a possible cause of the failure. \n",
      "\u001b[1;31mClick <a href='https://aka.ms/vscodeJupyterKernelCrash'>here</a> for more info. \n",
      "\u001b[1;31mView Jupyter <a href='command:jupyter.viewOutput'>log</a> for further details."
     ]
    }
   ],
   "source": [
    "print(f\"Norm of difference in weights for L2 and TD SGD: {torch.norm(weights - td_sgd.model.weight.data, 2)}\")\n",
    "print(f\"RMSE on the test set using TD SGD: {td_sgd.rmse(X_test, y_test)}\")\n"
   ]
  },
  {
   "cell_type": "code",
   "execution_count": 20,
   "metadata": {},
   "outputs": [
    {
     "name": "stdout",
     "output_type": "stream",
     "text": [
      "tensor([[-11.1315,   4.4402,   0.2227,   1.6646,  -9.7619,  17.1236,   0.9290,\n",
      "         -17.1550,   6.9490,  -7.1140,  -8.6243,   2.5696, -19.3702]])\n",
      "tensor([-10.9937,   5.0058,   0.6358,   2.4487, -10.3119,  17.5176,   1.0312,\n",
      "        -17.7757,   7.3409,  -6.4276,  -8.7997,   3.0356, -20.5194])\n"
     ]
    }
   ],
   "source": [
    "print(td_sgd.model.weight.data)\n",
    "print(weights)"
   ]
  }
 ],
 "metadata": {
  "kernelspec": {
   "display_name": ".venv",
   "language": "python",
   "name": "python3"
  },
  "language_info": {
   "codemirror_mode": {
    "name": "ipython",
    "version": 3
   },
   "file_extension": ".py",
   "mimetype": "text/x-python",
   "name": "python",
   "nbconvert_exporter": "python",
   "pygments_lexer": "ipython3",
   "version": "3.10.11"
  }
 },
 "nbformat": 4,
 "nbformat_minor": 2
}
