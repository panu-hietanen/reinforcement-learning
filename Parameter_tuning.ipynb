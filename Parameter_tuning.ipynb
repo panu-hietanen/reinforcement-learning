{
 "cells": [
  {
   "cell_type": "code",
   "execution_count": 1,
   "metadata": {},
   "outputs": [
    {
     "data": {
      "text/plain": [
       "<torch._C.Generator at 0x1b29c1ddad0>"
      ]
     },
     "execution_count": 1,
     "metadata": {},
     "output_type": "execute_result"
    }
   ],
   "source": [
    "import torch\n",
    "import numpy as np\n",
    "import matplotlib.pyplot as plt\n",
    "\n",
    "from utils import Tuning\n",
    "\n",
    "from sklearn.model_selection import train_test_split\n",
    "\n",
    "from utils.Tuning import random_search_nn, random_search_td\n",
    "\n",
    "seed = 42\n",
    "torch.manual_seed(seed)"
   ]
  },
  {
   "cell_type": "code",
   "execution_count": 2,
   "metadata": {},
   "outputs": [],
   "source": [
    "housedata = torch.tensor(np.loadtxt('data\\\\readyhousedata.txt', delimiter=','), dtype=torch.float32)\n",
    "\n",
    "X = housedata[:, :-1]\n",
    "y = housedata[:, -1]\n",
    "\n",
    "X_train, X_test, y_train, y_test = train_test_split(X, y, test_size=0.2, random_state=42)"
   ]
  },
  {
   "cell_type": "code",
   "execution_count": 3,
   "metadata": {},
   "outputs": [],
   "source": [
    "nn_param_grid = {\n",
    "    'learning_rate': [0.1, 0.01, 0.001, 0.0001], \n",
    "    'epochs': [200, 400, 600],\n",
    "    'betas': [\n",
    "        (0.9, 0.999), \n",
    "        (0.85, 0.999),  \n",
    "        (0.95, 0.999),  \n",
    "        (0.9, 0.99),  \n",
    "        (0.85, 0.99),  \n",
    "        (0.95, 0.99), \n",
    "        (0.8, 0.999),  \n",
    "    ]\n",
    "}\n",
    "\n",
    "td_param_grid = {\n",
    "    'gamma': [0, 0.1, 0.2, 0.9],\n",
    "    'learning_rate': [0.1, 0.01, 0.001, 0.0001],\n",
    "    'epochs': [200, 400, 600],\n",
    "    'epsilon': [1e-5, 1e-6, 1e-7],\n",
    "    'betas': [\n",
    "        (0.9, 0.999), \n",
    "        (0.85, 0.999),  \n",
    "        (0.95, 0.999),  \n",
    "        (0.9, 0.99),  \n",
    "        (0.85, 0.99),  \n",
    "        (0.95, 0.99), \n",
    "        (0.8, 0.999),  \n",
    "    ]\n",
    "}\n",
    "\n",
    "grids = {\n",
    "    'td': td_param_grid,\n",
    "    'nn': nn_param_grid,\n",
    "}"
   ]
  },
  {
   "cell_type": "code",
   "execution_count": 4,
   "metadata": {},
   "outputs": [
    {
     "name": "stdout",
     "output_type": "stream",
     "text": [
      "Training finished. Final epoch loss: 1793.5339895395132\n",
      "Training finished. Final epoch loss: 154.0677604675293\n",
      "Validation RMSE for TD: 2.6138 for params: {'optimizer_type': 'adam', 'learning_rate': 0.1, 'gamma': 0.1, 'epsilon': 1e-07, 'epochs': 600, 'betas': (0.95, 0.99)}\n",
      "Validation RMSE for TD: 4.5880 for params: {'optimizer_type': 'adam', 'learning_rate': 0.0001, 'gamma': 0.9, 'epsilon': 1e-06, 'epochs': 200, 'betas': (0.95, 0.999)}\n",
      "Best hyperparameters for TD: {'optimizer_type': 'adam', 'learning_rate': 0.1, 'gamma': 0.1, 'epsilon': 1e-07, 'epochs': 600, 'betas': (0.95, 0.99)}, Best RMSE: 2.6138\n",
      "Time taken: 26.7672 seconds\n"
     ]
    }
   ],
   "source": [
    "import time\n",
    "\n",
    "search_iterations = 2\n",
    "parameters = {}\n",
    "\n",
    "for model in ['td']:\n",
    "    param_grid = grids[model]\n",
    "    for optimizer in ['adam']:\n",
    "        t0 = time.time()\n",
    "        if model == 'td':\n",
    "            best_params = random_search_td(X_train, y_train, X_test, y_test, param_grid, search_iterations, optimizer)\n",
    "        elif model == 'nn':\n",
    "            best_params = random_search_td(X_train, y_train, X_test, y_test, param_grid, search_iterations, optimizer)\n",
    "        else:\n",
    "            raise Exception('Provide valid model')\n",
    "        t1 = time.time()\n",
    "        print(f\"Time taken: {t1-t0:.4f} seconds\")\n",
    "        parameters[f'{model}_{optimizer}'] = best_params "
   ]
  },
  {
   "cell_type": "code",
   "execution_count": 5,
   "metadata": {},
   "outputs": [
    {
     "name": "stdout",
     "output_type": "stream",
     "text": [
      "{'optimizer_type': 'adam', 'learning_rate': 0.1, 'gamma': 0.1, 'epsilon': 1e-07, 'epochs': 600, 'betas': (0.95, 0.99)}\n"
     ]
    }
   ],
   "source": [
    "for i in parameters.values():\n",
    "    print(i)"
   ]
  }
 ],
 "metadata": {
  "kernelspec": {
   "display_name": ".venv",
   "language": "python",
   "name": "python3"
  },
  "language_info": {
   "codemirror_mode": {
    "name": "ipython",
    "version": 3
   },
   "file_extension": ".py",
   "mimetype": "text/x-python",
   "name": "python",
   "nbconvert_exporter": "python",
   "pygments_lexer": "ipython3",
   "version": "3.10.11"
  }
 },
 "nbformat": 4,
 "nbformat_minor": 2
}
