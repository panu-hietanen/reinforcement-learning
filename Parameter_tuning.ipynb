{
 "cells": [
  {
   "cell_type": "code",
   "execution_count": 1,
   "metadata": {},
   "outputs": [
    {
     "data": {
      "text/plain": [
       "<torch._C.Generator at 0x171ac5b9ad0>"
      ]
     },
     "execution_count": 1,
     "metadata": {},
     "output_type": "execute_result"
    }
   ],
   "source": [
    "import torch\n",
    "import numpy as np\n",
    "import matplotlib.pyplot as plt\n",
    "\n",
    "from utils import Tuning\n",
    "\n",
    "from sklearn.model_selection import train_test_split\n",
    "\n",
    "from utils.Tuning import random_search\n",
    "\n",
    "seed = 42\n",
    "torch.manual_seed(seed)"
   ]
  },
  {
   "cell_type": "code",
   "execution_count": 2,
   "metadata": {},
   "outputs": [],
   "source": [
    "housedata = torch.tensor(np.loadtxt('data\\\\readyhousedata.txt', delimiter=','), dtype=torch.float32)\n",
    "\n",
    "X = housedata[:, :-1]\n",
    "y = housedata[:, -1]\n",
    "\n",
    "X_train, X_test, y_train, y_test = train_test_split(X, y, test_size=0.2, random_state=42)"
   ]
  },
  {
   "cell_type": "code",
   "execution_count": 3,
   "metadata": {},
   "outputs": [],
   "source": [
    "nn_param_grid = {\n",
    "    'learning_rate': [0.1, 0.01, 0.001, 0.0001], \n",
    "    'epochs': [100, 200, 400, 800, 1600],\n",
    "    'betas': [\n",
    "        (0.9, 0.999), \n",
    "        (0.85, 0.999),  \n",
    "        (0.95, 0.999),  \n",
    "        (0.9, 0.99),  \n",
    "        (0.85, 0.99),  \n",
    "        (0.95, 0.99), \n",
    "        (0.8, 0.999),  \n",
    "        (0.9, 0.9999),  \n",
    "        (0.95, 0.9999),\n",
    "        (0.85, 0.9999)\n",
    "    ]\n",
    "}\n",
    "\n",
    "td_param_grid = {\n",
    "    'n_iter': [1e4, 1e5, 1e6],\n",
    "    'gamma': [0],\n",
    "    'learning_rate': [0.01, 0.001],\n",
    "    'epochs': [100, 200, 400, 800, 1600],\n",
    "    'epsilon': [1e-5, 1e-6, 1e-7],\n",
    "    'betas': [\n",
    "        (0.9, 0.999), \n",
    "        (0.85, 0.999),  \n",
    "        (0.95, 0.999),  \n",
    "        (0.9, 0.99),  \n",
    "        (0.85, 0.99),  \n",
    "        (0.95, 0.99), \n",
    "        (0.8, 0.999),  \n",
    "        (0.9, 0.9999),  \n",
    "        (0.95, 0.9999),\n",
    "        (0.85, 0.9999)\n",
    "    ]\n",
    "}\n",
    "\n",
    "grids = {\n",
    "    'td': td_param_grid,\n",
    "    'nn': nn_param_grid,\n",
    "}"
   ]
  },
  {
   "cell_type": "code",
   "execution_count": 4,
   "metadata": {},
   "outputs": [
    {
     "name": "stdout",
     "output_type": "stream",
     "text": [
      "Iteration 1: Training TD with optimizer=sgd, learning_rate=0.01, gamma=0, epsilon=1e-05, epochs=200, betas=(0.85, 0.9999)\n",
      "Training finished. Final epoch loss: 4652.657899856567\n",
      "Validation RMSE for TD: 3.1581\n",
      "Iteration 2: Training TD with optimizer=sgd, learning_rate=0.001, gamma=0, epsilon=1e-05, epochs=400, betas=(0.85, 0.9999)\n",
      "Training finished. Final epoch loss: 3039.6348457336426\n",
      "Validation RMSE for TD: 2.8089\n",
      "Iteration 3: Training TD with optimizer=sgd, learning_rate=0.01, gamma=0, epsilon=1e-07, epochs=1600, betas=(0.95, 0.9999)\n",
      "Training finished. Final epoch loss: 418.5337190628052\n",
      "Validation RMSE for TD: 2.6485\n",
      "Iteration 4: Training TD with optimizer=sgd, learning_rate=0.01, gamma=0, epsilon=1e-05, epochs=200, betas=(0.85, 0.999)\n",
      "Training finished. Final epoch loss: 3578.6551570892334\n",
      "Validation RMSE for TD: 2.8111\n",
      "Iteration 5: Training TD with optimizer=sgd, learning_rate=0.01, gamma=0, epsilon=1e-06, epochs=200, betas=(0.9, 0.99)\n",
      "Training finished. Final epoch loss: 8244.244930267334\n",
      "Validation RMSE for TD: 2.9539\n",
      "Iteration 6: Training TD with optimizer=sgd, learning_rate=0.01, gamma=0, epsilon=1e-05, epochs=1600, betas=(0.95, 0.9999)\n",
      "Training finished. Final epoch loss: 637.7793273925781\n",
      "Validation RMSE for TD: 2.6573\n",
      "Iteration 7: Training TD with optimizer=sgd, learning_rate=0.01, gamma=0, epsilon=1e-06, epochs=200, betas=(0.95, 0.9999)\n",
      "Training finished. Final epoch loss: 3886.4712409973145\n",
      "Validation RMSE for TD: 4.4818\n",
      "Iteration 8: Training TD with optimizer=sgd, learning_rate=0.001, gamma=0, epsilon=1e-07, epochs=100, betas=(0.95, 0.99)\n",
      "Training finished. Final epoch loss: 6214.609157562256\n",
      "Validation RMSE for TD: 2.9176\n",
      "Iteration 9: Training TD with optimizer=sgd, learning_rate=0.01, gamma=0, epsilon=1e-07, epochs=400, betas=(0.8, 0.999)\n",
      "Training finished. Final epoch loss: 2598.4084873199463\n",
      "Validation RMSE for TD: 2.8083\n",
      "Iteration 10: Training TD with optimizer=sgd, learning_rate=0.001, gamma=0, epsilon=1e-06, epochs=1600, betas=(0.9, 0.999)\n",
      "Training finished. Final epoch loss: 1418.8456754684448\n",
      "Validation RMSE for TD: 2.7250\n",
      "Iteration 11: Training TD with optimizer=sgd, learning_rate=0.01, gamma=0, epsilon=1e-06, epochs=1600, betas=(0.8, 0.999)\n",
      "Training finished. Final epoch loss: 588.3665337562561\n",
      "Validation RMSE for TD: 2.6169\n",
      "Iteration 12: Training TD with optimizer=sgd, learning_rate=0.001, gamma=0, epsilon=1e-07, epochs=200, betas=(0.85, 0.9999)\n",
      "Training finished. Final epoch loss: 4440.365303039551\n",
      "Validation RMSE for TD: 2.7134\n",
      "Iteration 13: Training TD with optimizer=sgd, learning_rate=0.01, gamma=0, epsilon=1e-07, epochs=100, betas=(0.9, 0.9999)\n",
      "Training finished. Final epoch loss: 8086.639404296875\n",
      "Validation RMSE for TD: 6.4905\n",
      "Iteration 14: Training TD with optimizer=sgd, learning_rate=0.01, gamma=0, epsilon=1e-05, epochs=100, betas=(0.95, 0.999)\n",
      "Training finished. Final epoch loss: 8723.145275115967\n",
      "Validation RMSE for TD: 3.0415\n",
      "Iteration 15: Training TD with optimizer=sgd, learning_rate=0.001, gamma=0, epsilon=1e-06, epochs=200, betas=(0.85, 0.99)\n",
      "Training finished. Final epoch loss: 4729.955568313599\n",
      "Validation RMSE for TD: 2.7235\n",
      "Iteration 16: Training TD with optimizer=sgd, learning_rate=0.001, gamma=0, epsilon=1e-07, epochs=1600, betas=(0.8, 0.999)\n"
     ]
    },
    {
     "ename": "KeyboardInterrupt",
     "evalue": "",
     "output_type": "error",
     "traceback": [
      "\u001b[1;31m---------------------------------------------------------------------------\u001b[0m",
      "\u001b[1;31mKeyboardInterrupt\u001b[0m                         Traceback (most recent call last)",
      "Cell \u001b[1;32mIn[4], line 7\u001b[0m\n\u001b[0;32m      5\u001b[0m param_grid \u001b[38;5;241m=\u001b[39m grids[model]\n\u001b[0;32m      6\u001b[0m \u001b[38;5;28;01mfor\u001b[39;00m optimizer \u001b[38;5;129;01min\u001b[39;00m [\u001b[38;5;124m'\u001b[39m\u001b[38;5;124msgd\u001b[39m\u001b[38;5;124m'\u001b[39m, \u001b[38;5;124m'\u001b[39m\u001b[38;5;124madam\u001b[39m\u001b[38;5;124m'\u001b[39m]:\n\u001b[1;32m----> 7\u001b[0m     best_params \u001b[38;5;241m=\u001b[39m \u001b[43mrandom_search\u001b[49m\u001b[43m(\u001b[49m\u001b[43mmodel\u001b[49m\u001b[43m,\u001b[49m\u001b[43m \u001b[49m\u001b[43mX_train\u001b[49m\u001b[43m,\u001b[49m\u001b[43m \u001b[49m\u001b[43my_train\u001b[49m\u001b[43m,\u001b[49m\u001b[43m \u001b[49m\u001b[43mX_test\u001b[49m\u001b[43m,\u001b[49m\u001b[43m \u001b[49m\u001b[43my_test\u001b[49m\u001b[43m,\u001b[49m\u001b[43m \u001b[49m\u001b[43mparam_grid\u001b[49m\u001b[43m,\u001b[49m\u001b[43m \u001b[49m\u001b[43msearch_iterations\u001b[49m\u001b[43m,\u001b[49m\u001b[43m \u001b[49m\u001b[43moptimizer\u001b[49m\u001b[43m)\u001b[49m\n\u001b[0;32m      8\u001b[0m     parameters[\u001b[38;5;124mf\u001b[39m\u001b[38;5;124m'\u001b[39m\u001b[38;5;132;01m{\u001b[39;00mmodel\u001b[38;5;132;01m}\u001b[39;00m\u001b[38;5;124m_\u001b[39m\u001b[38;5;132;01m{\u001b[39;00moptimizer\u001b[38;5;132;01m}\u001b[39;00m\u001b[38;5;124m'\u001b[39m] \u001b[38;5;241m=\u001b[39m best_params \n",
      "File \u001b[1;32mc:\\Users\\panuh\\OneDrive - Nexus365\\Year 4\\reinforcement-learning\\utils\\Tuning.py:145\u001b[0m, in \u001b[0;36mrandom_search\u001b[1;34m(model_type, X_train, y_train, X_val, y_val, param_grid, n_iter_search, optimizer, random_state)\u001b[0m\n\u001b[0;32m    131\u001b[0m \u001b[38;5;66;03m# Create and evaluate the TD model\u001b[39;00m\n\u001b[0;32m    132\u001b[0m model \u001b[38;5;241m=\u001b[39m create_model_td(\n\u001b[0;32m    133\u001b[0m     optimizer_type\u001b[38;5;241m=\u001b[39moptimizer_type,\n\u001b[0;32m    134\u001b[0m     input_size\u001b[38;5;241m=\u001b[39mX_train\u001b[38;5;241m.\u001b[39mshape[\u001b[38;5;241m1\u001b[39m],\n\u001b[1;32m   (...)\u001b[0m\n\u001b[0;32m    142\u001b[0m     inv_link\u001b[38;5;241m=\u001b[39m\u001b[38;5;28;01mlambda\u001b[39;00m x: x  \u001b[38;5;66;03m# Identity inverse link function\u001b[39;00m\n\u001b[0;32m    143\u001b[0m )\n\u001b[1;32m--> 145\u001b[0m \u001b[43mmodel\u001b[49m\u001b[38;5;241;43m.\u001b[39;49m\u001b[43mfit\u001b[49m\u001b[43m(\u001b[49m\u001b[43mX_train\u001b[49m\u001b[43m,\u001b[49m\u001b[43m \u001b[49m\u001b[43my_train\u001b[49m\u001b[43m,\u001b[49m\u001b[43m \u001b[49m\u001b[43mepochs\u001b[49m\u001b[38;5;241;43m=\u001b[39;49m\u001b[43mepochs\u001b[49m\u001b[43m)\u001b[49m\n\u001b[0;32m    146\u001b[0m loss \u001b[38;5;241m=\u001b[39m model\u001b[38;5;241m.\u001b[39mrmse(X_val, y_val)\n\u001b[0;32m    148\u001b[0m \u001b[38;5;28mprint\u001b[39m(\u001b[38;5;124mf\u001b[39m\u001b[38;5;124m\"\u001b[39m\u001b[38;5;124mValidation RMSE for TD: \u001b[39m\u001b[38;5;132;01m{\u001b[39;00mloss\u001b[38;5;132;01m:\u001b[39;00m\u001b[38;5;124m.4f\u001b[39m\u001b[38;5;132;01m}\u001b[39;00m\u001b[38;5;124m\"\u001b[39m)\n",
      "File \u001b[1;32mc:\\Users\\panuh\\OneDrive - Nexus365\\Year 4\\reinforcement-learning\\utils\\TD_NN.py:121\u001b[0m, in \u001b[0;36mTemporalDifferenceNN.fit\u001b[1;34m(self, X, y, epochs)\u001b[0m\n\u001b[0;32m    118\u001b[0m loss \u001b[38;5;241m=\u001b[39m \u001b[38;5;28mself\u001b[39m\u001b[38;5;241m.\u001b[39mnn\u001b[38;5;241m.\u001b[39mcriterion(\u001b[38;5;28mself\u001b[39m\u001b[38;5;241m.\u001b[39mlink(curr_z), \u001b[38;5;28mself\u001b[39m\u001b[38;5;241m.\u001b[39mlink(z_t))\n\u001b[0;32m    120\u001b[0m \u001b[38;5;66;03m# Backward pass and optimization\u001b[39;00m\n\u001b[1;32m--> 121\u001b[0m \u001b[43mloss\u001b[49m\u001b[38;5;241;43m.\u001b[39;49m\u001b[43mbackward\u001b[49m\u001b[43m(\u001b[49m\u001b[43m)\u001b[49m\n\u001b[0;32m    122\u001b[0m \u001b[38;5;28mself\u001b[39m\u001b[38;5;241m.\u001b[39mnn\u001b[38;5;241m.\u001b[39moptimizer\u001b[38;5;241m.\u001b[39mstep()\n\u001b[0;32m    124\u001b[0m epoch_loss \u001b[38;5;241m+\u001b[39m\u001b[38;5;241m=\u001b[39m loss\u001b[38;5;241m.\u001b[39mitem() \u001b[38;5;241m*\u001b[39m curr_x\u001b[38;5;241m.\u001b[39msize(\u001b[38;5;241m0\u001b[39m)\n",
      "File \u001b[1;32mc:\\Users\\panuh\\OneDrive - Nexus365\\Year 4\\reinforcement-learning\\.venv\\lib\\site-packages\\torch\\_tensor.py:521\u001b[0m, in \u001b[0;36mTensor.backward\u001b[1;34m(self, gradient, retain_graph, create_graph, inputs)\u001b[0m\n\u001b[0;32m    511\u001b[0m \u001b[38;5;28;01mif\u001b[39;00m has_torch_function_unary(\u001b[38;5;28mself\u001b[39m):\n\u001b[0;32m    512\u001b[0m     \u001b[38;5;28;01mreturn\u001b[39;00m handle_torch_function(\n\u001b[0;32m    513\u001b[0m         Tensor\u001b[38;5;241m.\u001b[39mbackward,\n\u001b[0;32m    514\u001b[0m         (\u001b[38;5;28mself\u001b[39m,),\n\u001b[1;32m   (...)\u001b[0m\n\u001b[0;32m    519\u001b[0m         inputs\u001b[38;5;241m=\u001b[39minputs,\n\u001b[0;32m    520\u001b[0m     )\n\u001b[1;32m--> 521\u001b[0m \u001b[43mtorch\u001b[49m\u001b[38;5;241;43m.\u001b[39;49m\u001b[43mautograd\u001b[49m\u001b[38;5;241;43m.\u001b[39;49m\u001b[43mbackward\u001b[49m\u001b[43m(\u001b[49m\n\u001b[0;32m    522\u001b[0m \u001b[43m    \u001b[49m\u001b[38;5;28;43mself\u001b[39;49m\u001b[43m,\u001b[49m\u001b[43m \u001b[49m\u001b[43mgradient\u001b[49m\u001b[43m,\u001b[49m\u001b[43m \u001b[49m\u001b[43mretain_graph\u001b[49m\u001b[43m,\u001b[49m\u001b[43m \u001b[49m\u001b[43mcreate_graph\u001b[49m\u001b[43m,\u001b[49m\u001b[43m \u001b[49m\u001b[43minputs\u001b[49m\u001b[38;5;241;43m=\u001b[39;49m\u001b[43minputs\u001b[49m\n\u001b[0;32m    523\u001b[0m \u001b[43m\u001b[49m\u001b[43m)\u001b[49m\n",
      "File \u001b[1;32mc:\\Users\\panuh\\OneDrive - Nexus365\\Year 4\\reinforcement-learning\\.venv\\lib\\site-packages\\torch\\autograd\\__init__.py:289\u001b[0m, in \u001b[0;36mbackward\u001b[1;34m(tensors, grad_tensors, retain_graph, create_graph, grad_variables, inputs)\u001b[0m\n\u001b[0;32m    284\u001b[0m     retain_graph \u001b[38;5;241m=\u001b[39m create_graph\n\u001b[0;32m    286\u001b[0m \u001b[38;5;66;03m# The reason we repeat the same comment below is that\u001b[39;00m\n\u001b[0;32m    287\u001b[0m \u001b[38;5;66;03m# some Python versions print out the first line of a multi-line function\u001b[39;00m\n\u001b[0;32m    288\u001b[0m \u001b[38;5;66;03m# calls in the traceback and some print out the last line\u001b[39;00m\n\u001b[1;32m--> 289\u001b[0m \u001b[43m_engine_run_backward\u001b[49m\u001b[43m(\u001b[49m\n\u001b[0;32m    290\u001b[0m \u001b[43m    \u001b[49m\u001b[43mtensors\u001b[49m\u001b[43m,\u001b[49m\n\u001b[0;32m    291\u001b[0m \u001b[43m    \u001b[49m\u001b[43mgrad_tensors_\u001b[49m\u001b[43m,\u001b[49m\n\u001b[0;32m    292\u001b[0m \u001b[43m    \u001b[49m\u001b[43mretain_graph\u001b[49m\u001b[43m,\u001b[49m\n\u001b[0;32m    293\u001b[0m \u001b[43m    \u001b[49m\u001b[43mcreate_graph\u001b[49m\u001b[43m,\u001b[49m\n\u001b[0;32m    294\u001b[0m \u001b[43m    \u001b[49m\u001b[43minputs\u001b[49m\u001b[43m,\u001b[49m\n\u001b[0;32m    295\u001b[0m \u001b[43m    \u001b[49m\u001b[43mallow_unreachable\u001b[49m\u001b[38;5;241;43m=\u001b[39;49m\u001b[38;5;28;43;01mTrue\u001b[39;49;00m\u001b[43m,\u001b[49m\n\u001b[0;32m    296\u001b[0m \u001b[43m    \u001b[49m\u001b[43maccumulate_grad\u001b[49m\u001b[38;5;241;43m=\u001b[39;49m\u001b[38;5;28;43;01mTrue\u001b[39;49;00m\u001b[43m,\u001b[49m\n\u001b[0;32m    297\u001b[0m \u001b[43m\u001b[49m\u001b[43m)\u001b[49m\n",
      "File \u001b[1;32mc:\\Users\\panuh\\OneDrive - Nexus365\\Year 4\\reinforcement-learning\\.venv\\lib\\site-packages\\torch\\autograd\\graph.py:768\u001b[0m, in \u001b[0;36m_engine_run_backward\u001b[1;34m(t_outputs, *args, **kwargs)\u001b[0m\n\u001b[0;32m    766\u001b[0m     unregister_hooks \u001b[38;5;241m=\u001b[39m _register_logging_hooks_on_whole_graph(t_outputs)\n\u001b[0;32m    767\u001b[0m \u001b[38;5;28;01mtry\u001b[39;00m:\n\u001b[1;32m--> 768\u001b[0m     \u001b[38;5;28;01mreturn\u001b[39;00m Variable\u001b[38;5;241m.\u001b[39m_execution_engine\u001b[38;5;241m.\u001b[39mrun_backward(  \u001b[38;5;66;03m# Calls into the C++ engine to run the backward pass\u001b[39;00m\n\u001b[0;32m    769\u001b[0m         t_outputs, \u001b[38;5;241m*\u001b[39margs, \u001b[38;5;241m*\u001b[39m\u001b[38;5;241m*\u001b[39mkwargs\n\u001b[0;32m    770\u001b[0m     )  \u001b[38;5;66;03m# Calls into the C++ engine to run the backward pass\u001b[39;00m\n\u001b[0;32m    771\u001b[0m \u001b[38;5;28;01mfinally\u001b[39;00m:\n\u001b[0;32m    772\u001b[0m     \u001b[38;5;28;01mif\u001b[39;00m attach_logging_hooks:\n",
      "\u001b[1;31mKeyboardInterrupt\u001b[0m: "
     ]
    }
   ],
   "source": [
    "import time\n",
    "\n",
    "search_iterations = 50\n",
    "parameters = {}\n",
    "\n",
    "for model in ['td']:\n",
    "    param_grid = grids[model]\n",
    "    for optimizer in ['sgd', 'adam']:\n",
    "        t0 = time.time()\n",
    "        best_params = random_search(model, X_train, y_train, X_test, y_test, param_grid, search_iterations, optimizer)\n",
    "        t1 = time.time()\n",
    "        print(f\"Time taken: {t1-t0}\")\n",
    "        parameters[f'{model}_{optimizer}'] = best_params "
   ]
  },
  {
   "cell_type": "code",
   "execution_count": 5,
   "metadata": {},
   "outputs": [
    {
     "name": "stdout",
     "output_type": "stream",
     "text": [
      "None\n",
      "None\n"
     ]
    }
   ],
   "source": [
    "for i in parameters.values():\n",
    "    print(i)"
   ]
  }
 ],
 "metadata": {
  "kernelspec": {
   "display_name": ".venv",
   "language": "python",
   "name": "python3"
  },
  "language_info": {
   "codemirror_mode": {
    "name": "ipython",
    "version": 3
   },
   "file_extension": ".py",
   "mimetype": "text/x-python",
   "name": "python",
   "nbconvert_exporter": "python",
   "pygments_lexer": "ipython3",
   "version": "3.10.11"
  }
 },
 "nbformat": 4,
 "nbformat_minor": 2
}
