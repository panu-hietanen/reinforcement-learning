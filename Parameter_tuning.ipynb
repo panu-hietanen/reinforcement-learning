{
 "cells": [
  {
   "cell_type": "code",
   "execution_count": 1,
   "metadata": {},
   "outputs": [
    {
     "data": {
      "text/plain": [
       "<torch._C.Generator at 0x1c44b401af0>"
      ]
     },
     "execution_count": 1,
     "metadata": {},
     "output_type": "execute_result"
    }
   ],
   "source": [
    "import torch\n",
    "import numpy as np\n",
    "import matplotlib.pyplot as plt\n",
    "\n",
    "from sklearn.model_selection import train_test_split\n",
    "\n",
    "from utils.TD import TD_Adam, TD_SGD\n",
    "from utils.NeuralNet import TwoLayerFCNN_Adam, TwoLayerFCNN_SGD\n",
    "\n",
    "from utils import Benchmarking\n",
    "\n",
    "seed = 42\n",
    "torch.manual_seed(seed)"
   ]
  },
  {
   "cell_type": "code",
   "execution_count": null,
   "metadata": {},
   "outputs": [],
   "source": [
    "housedata = torch.tensor(np.loadtxt('data\\\\readyhousedata.txt', delimiter=','), dtype=torch.float32)\n",
    "\n",
    "X = housedata[:, :-1]\n",
    "y = housedata[:, -1]\n",
    "\n",
    "X_train, X_test, y_train, y_test = train_test_split(X, y, test_size=0.2, random_state=42)"
   ]
  },
  {
   "cell_type": "code",
   "execution_count": null,
   "metadata": {},
   "outputs": [],
   "source": [
    "# Parameters for TD\n",
    "num_samples, num_features = X_train.shape\n",
    "P = torch.ones((num_samples, num_samples)) / num_samples # Equal probability to move to any state\n",
    "\n",
    "identity = lambda x : x\n",
    "n_iter = 1e5\n",
    "alpha = 0.01\n",
    "epsilon = 1e-7\n",
    "\n",
    "hidden_layers = 64"
   ]
  },
  {
   "cell_type": "code",
   "execution_count": null,
   "metadata": {},
   "outputs": [],
   "source": [
    "# Initialise classes\n",
    "td_sgd = TD_SGD(\n",
    "    n_iter=n_iter,\n",
    "    P=P,\n",
    "    link=identity,\n",
    "    inv_link=identity,\n",
    "    gamma=0,\n",
    "    alpha=alpha,\n",
    "    epsilon=epsilon,\n",
    ")\n",
    "\n",
    "td_adam = TD_Adam(\n",
    "    n_iter=n_iter,\n",
    "    P=P,\n",
    "    link=identity,\n",
    "    inv_link=identity,\n",
    "    gamma=0,\n",
    "    alpha=alpha,\n",
    "    epsilon=epsilon,\n",
    ")\n",
    "\n",
    "nn_sgd = TwoLayerFCNN_SGD(\n",
    "    batch_size=32,\n",
    "    lr=alpha,\n",
    "    n_epochs=1000,\n",
    "    input_size=num_features,\n",
    "    hidden_size=hidden_layers,\n",
    ")\n",
    "\n",
    "nn_adam = TwoLayerFCNN_Adam(\n",
    "    batch_size=32,\n",
    "    lr=alpha,\n",
    "    n_epochs=1000,\n",
    "    input_size=num_features,\n",
    "    hidden_size=hidden_layers,\n",
    ")"
   ]
  }
 ],
 "metadata": {
  "kernelspec": {
   "display_name": ".venv",
   "language": "python",
   "name": "python3"
  },
  "language_info": {
   "codemirror_mode": {
    "name": "ipython",
    "version": 3
   },
   "file_extension": ".py",
   "mimetype": "text/x-python",
   "name": "python",
   "nbconvert_exporter": "python",
   "pygments_lexer": "ipython3",
   "version": "3.10.11"
  }
 },
 "nbformat": 4,
 "nbformat_minor": 2
}
