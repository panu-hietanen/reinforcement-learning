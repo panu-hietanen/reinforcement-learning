{
 "cells": [
  {
   "cell_type": "code",
   "execution_count": 1,
   "metadata": {},
   "outputs": [],
   "source": [
    "import torch\n",
    "import numpy as np\n",
    "import matplotlib.pyplot as plt\n",
    "\n",
    "from sklearn.model_selection import train_test_split\n",
    "\n",
    "from utils.TD_NN import TemporalDifferenceNN\n",
    "from utils.NeuralNet import TwoHiddenLayerNN\n",
    "\n",
    "from utils import Benchmarking\n",
    "\n",
    "# seed = 42\n",
    "# torch.manual_seed(seed)"
   ]
  },
  {
   "cell_type": "code",
   "execution_count": 2,
   "metadata": {},
   "outputs": [],
   "source": [
    "housedata = torch.tensor(np.loadtxt('data\\\\readyhousedata.txt', delimiter=','), dtype=torch.float32)\n",
    "\n",
    "X = housedata[:, :-1]\n",
    "y = housedata[:, -1]\n",
    "\n",
    "X_train, X_test, y_train, y_test = train_test_split(X, y, test_size=0.2, random_state=42)"
   ]
  },
  {
   "cell_type": "code",
   "execution_count": 3,
   "metadata": {},
   "outputs": [],
   "source": [
    "# Parameters for TD\n",
    "num_samples, num_features = X_train.shape\n",
    "P = torch.ones((num_samples, num_samples)) / num_samples # Equal probability to move to any state\n",
    "\n",
    "identity = lambda x : x"
   ]
  },
  {
   "cell_type": "code",
   "execution_count": 4,
   "metadata": {},
   "outputs": [],
   "source": [
    "# Initialise classes\n",
    "td_sgd = TemporalDifferenceNN(\n",
    "    optimizer='sgd',\n",
    "    input_size=num_features,\n",
    "    learning_rate=0.001,\n",
    "    epsilon=1e-6,\n",
    "    n_iter=1e6,\n",
    "    P=P,\n",
    ")\n",
    "\n",
    "td_adam = TemporalDifferenceNN(\n",
    "    optimizer='adam',\n",
    "    input_size=num_features,\n",
    "    learning_rate=0.001,\n",
    "    epsilon=1e-6,\n",
    "    n_iter=1e6,\n",
    "    P=P,\n",
    "    betas=(0.85, 0.999),\n",
    ")\n",
    "\n",
    "nn_sgd = TwoHiddenLayerNN(\n",
    "    input_size=num_features,\n",
    "    optimizer='sgd',\n",
    "    learning_rate=0.01,\n",
    ")\n",
    "\n",
    "nn_adam = TwoHiddenLayerNN(\n",
    "    input_size=num_features,\n",
    "    optimizer='adam',\n",
    "    learning_rate=0.1,\n",
    ")"
   ]
  },
  {
   "cell_type": "code",
   "execution_count": 5,
   "metadata": {},
   "outputs": [
    {
     "name": "stdout",
     "output_type": "stream",
     "text": [
      "Ending optimization early at iteration 10145\n",
      "Ending optimization early at iteration 15591\n"
     ]
    }
   ],
   "source": [
    "# Train the TD models\n",
    "td_sgd.fit(X_train, y_train)\n",
    "td_adam.fit(X_train, y_train)\n",
    "\n",
    "# Train the NN models\n",
    "nn_sgd.fit(X_train, y_train, epochs=1600)\n",
    "nn_adam.fit(X_train, y_train, epochs=800)"
   ]
  },
  {
   "cell_type": "code",
   "execution_count": 6,
   "metadata": {},
   "outputs": [],
   "source": [
    "# Define noise standard deviation\n",
    "noise_std = 0.1\n",
    "\n",
    "# Add Gaussian noise to the test set\n",
    "X_test_noisy = X_test + torch.randn(X_test.shape) * noise_std"
   ]
  },
  {
   "cell_type": "code",
   "execution_count": 7,
   "metadata": {},
   "outputs": [],
   "source": [
    "# TD predictions on original and noisy test sets\n",
    "y_pred_td_sgd = td_sgd.predict(X_test)\n",
    "y_pred_td_sgd_noisy = td_sgd.predict(X_test_noisy)\n",
    "\n",
    "y_pred_td_adam = td_adam.predict(X_test)\n",
    "y_pred_td_adam_noisy = td_adam.predict(X_test_noisy)\n",
    "\n",
    "# NN predictions on original and noisy test sets\n",
    "y_pred_nn_sgd = nn_sgd.predict(X_test)\n",
    "y_pred_nn_sgd_noisy = nn_sgd.predict(X_test_noisy)\n",
    "\n",
    "y_pred_nn_adam = nn_adam.predict(X_test)\n",
    "y_pred_nn_adam_noisy = nn_adam.predict(X_test_noisy)"
   ]
  },
  {
   "cell_type": "code",
   "execution_count": 8,
   "metadata": {},
   "outputs": [
    {
     "name": "stdout",
     "output_type": "stream",
     "text": [
      "Average change for TD-SGD: 2.822809934616089\n",
      "Average change for TD-Adam: 3.9634501934051514\n",
      "Average change for L2-SGD: 3.635129451751709\n",
      "Average change for L2-Adam: 6.988964557647705\n"
     ]
    }
   ],
   "source": [
    "# Measure the average change in output values for all methods\n",
    "change_td_sgd = Benchmarking.mean_absolute_diff(y_pred_td_sgd, y_pred_td_sgd_noisy)\n",
    "change_td_adam = Benchmarking.mean_absolute_diff(y_pred_td_adam, y_pred_td_adam_noisy)\n",
    "change_nn_sgd = Benchmarking.mean_absolute_diff(y_pred_nn_sgd, y_pred_nn_sgd_noisy)\n",
    "change_nn_adam = Benchmarking.mean_absolute_diff(y_pred_nn_adam, y_pred_nn_adam_noisy)\n",
    "\n",
    "# Print the results\n",
    "print(f\"Average change for TD-SGD: {change_td_sgd}\")\n",
    "print(f\"Average change for TD-Adam: {change_td_adam}\")\n",
    "print(f\"Average change for L2-SGD: {change_nn_sgd}\")\n",
    "print(f\"Average change for L2-Adam: {change_nn_adam}\")"
   ]
  },
  {
   "cell_type": "code",
   "execution_count": 9,
   "metadata": {},
   "outputs": [
    {
     "data": {
      "image/png": "[encoded data removed]",
      "text/plain": [
       "<Figure size 640x480 with 1 Axes>"
      ]
     },
     "metadata": {},
     "output_type": "display_data"
    }
   ],
   "source": [
    "# Plot the changes in predictions\n",
    "Benchmarking.plot_noise_diff(\n",
    "    td_sgd=change_td_sgd, \n",
    "    td_adam=change_td_adam, \n",
    "    nn_sgd=change_nn_sgd, \n",
    "    nn_adam=change_nn_adam,\n",
    "    )"
   ]
  },
  {
   "cell_type": "code",
   "execution_count": 10,
   "metadata": {},
   "outputs": [
    {
     "name": "stdout",
     "output_type": "stream",
     "text": [
      "RMSE for TD-SGD 4.183921813964844\n",
      "RMSE for TD-ADAM 2.656264543533325\n",
      "RMSE for L2-SGD 3.2622270584106445\n",
      "RMSE for L2-ADAM 3.1322131156921387\n"
     ]
    }
   ],
   "source": [
    "print(f\"RMSE for TD-SGD {td_sgd.rmse(X_test, y_test)}\")\n",
    "print(f\"RMSE for TD-ADAM {td_adam.rmse(X_test, y_test)}\")\n",
    "print(f\"RMSE for L2-SGD {nn_sgd.rmse(X_test, y_test)}\")\n",
    "print(f\"RMSE for L2-ADAM {nn_adam.rmse(X_test, y_test)}\")"
   ]
  },
  {
   "cell_type": "code",
   "execution_count": 11,
   "metadata": {},
   "outputs": [
    {
     "name": "stdout",
     "output_type": "stream",
     "text": [
      "RMSE for noisy TD-SGD 6.5240864753723145\n",
      "RMSE for noisy TD-ADAM 6.983378887176514\n",
      "RMSE for noisy L2-SGD 7.809919357299805\n",
      "RMSE for noisy L2-ADAM 11.593719482421875\n"
     ]
    }
   ],
   "source": [
    "print(f\"RMSE for noisy TD-SGD {td_sgd.rmse(X_test_noisy, y_test)}\")\n",
    "print(f\"RMSE for noisy TD-ADAM {td_adam.rmse(X_test_noisy, y_test)}\")\n",
    "print(f\"RMSE for noisy L2-SGD {nn_sgd.rmse(X_test_noisy, y_test)}\")\n",
    "print(f\"RMSE for noisy L2-ADAM {nn_adam.rmse(X_test_noisy, y_test)}\")"
   ]
  }
 ],
 "metadata": {
  "kernelspec": {
   "display_name": ".venv",
   "language": "python",
   "name": "python3"
  },
  "language_info": {
   "codemirror_mode": {
    "name": "ipython",
    "version": 3
   },
   "file_extension": ".py",
   "mimetype": "text/x-python",
   "name": "python",
   "nbconvert_exporter": "python",
   "pygments_lexer": "ipython3",
   "version": "3.10.11"
  }
 },
 "nbformat": 4,
 "nbformat_minor": 2
}
