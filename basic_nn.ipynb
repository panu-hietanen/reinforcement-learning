{
 "cells": [
  {
   "cell_type": "code",
   "execution_count": 4,
   "metadata": {},
   "outputs": [],
   "source": [
    "from utils.NeuralNet import TwoHiddenLayerNN\n",
    "\n",
    "import torch\n",
    "from torch import nn\n",
    "from torch import optim\n",
    "from torch.utils.data import DataLoader, TensorDataset\n",
    "\n",
    "import numpy as np\n",
    "\n",
    "from sklearn.model_selection import train_test_split"
   ]
  },
  {
   "cell_type": "code",
   "execution_count": 5,
   "metadata": {},
   "outputs": [],
   "source": [
    "# Load the housing data\n",
    "housedata = np.loadtxt('data\\\\readyhousedata.txt', delimiter=',')\n",
    "\n",
    "# Separate features and target\n",
    "X = housedata[:, :-1]\n",
    "y = housedata[:, -1]\n",
    "\n",
    "# Convert data to PyTorch tensors\n",
    "X_tensor = torch.tensor(X, dtype=torch.float32)\n",
    "y_tensor = torch.tensor(y, dtype=torch.float32)\n",
    "\n",
    "# Split dara\n",
    "X_train, X_test, y_train, y_test = train_test_split(X_tensor, y_tensor, test_size=0.2, random_state=42)\n",
    "\n",
    "# Get the number of samples and features from the training set\n",
    "n_samples, n_features = X_train.shape\n",
    "hidden_size = 64\n",
    "batch_size = 32"
   ]
  },
  {
   "cell_type": "code",
   "execution_count": 21,
   "metadata": {},
   "outputs": [],
   "source": [
    "lr = 0.01\n",
    "num_epochs = 800\n",
    "\n",
    "model = TwoHiddenLayerNN(\n",
    "    input_size=n_features,\n",
    "    optimizer='adam',\n",
    "    )"
   ]
  },
  {
   "cell_type": "code",
   "execution_count": 24,
   "metadata": {},
   "outputs": [
    {
     "name": "stdout",
     "output_type": "stream",
     "text": [
      "RMSE from L2 NN: 2.863147258758545\n"
     ]
    }
   ],
   "source": [
    "model.fit(X_train, y_train, num_epochs)\n",
    "print(f\"RMSE from L2 NN: {model.rmse(X_test, y_test)}\")"
   ]
  },
  {
   "cell_type": "code",
   "execution_count": null,
   "metadata": {},
   "outputs": [],
   "source": [
    "from utils.TD import TD_SGD, TD_Adam\n",
    "from utils.TD_NN import TemporalDifferenceNN\n",
    "\n",
    "num_samples = X_train.shape[0]\n",
    "P = torch.ones((num_samples, num_samples)) / num_samples # Equal probability to move to any state\n",
    "\n",
    "alpha = 0.001  # Learning rate\n",
    "gamma = 0   # Discount factor\n",
    "num_iterations = 1e6  # Number of iterations\n",
    "epsilon = 1e-7\n",
    "\n",
    "optimizer = 'sgd'\n",
    "\n",
    "td = TemporalDifferenceNN(\n",
    "    optimizer='sgd',\n",
    "    input_size=n_features,\n",
    "    learning_rate=alpha,\n",
    "    gamma=gamma,\n",
    "    epsilon=epsilon,\n",
    "    n_iter=num_iterations,\n",
    "    P=P,\n",
    "    link=lambda x : x,\n",
    "    inv_link=lambda x : x,\n",
    ")"
   ]
  },
  {
   "cell_type": "code",
   "execution_count": 28,
   "metadata": {},
   "outputs": [
    {
     "name": "stdout",
     "output_type": "stream",
     "text": [
      "Ending optimization early at iteration 460\n",
      "RMSE from TD SGD: 2.624650478363037\n"
     ]
    }
   ],
   "source": [
    "td.fit(X_train, y_train)\n",
    "print(f\"RMSE from TD SGD: {td.rmse(X_test, y_test)}\")"
   ]
  }
 ],
 "metadata": {
  "kernelspec": {
   "display_name": ".venv",
   "language": "python",
   "name": "python3"
  },
  "language_info": {
   "codemirror_mode": {
    "name": "ipython",
    "version": 3
   },
   "file_extension": ".py",
   "mimetype": "text/x-python",
   "name": "python",
   "nbconvert_exporter": "python",
   "pygments_lexer": "ipython3",
   "version": "3.10.11"
  }
 },
 "nbformat": 4,
 "nbformat_minor": 2
}
