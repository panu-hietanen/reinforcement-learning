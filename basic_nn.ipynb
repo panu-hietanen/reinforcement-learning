{
 "cells": [
  {
   "cell_type": "code",
   "execution_count": 1,
   "metadata": {},
   "outputs": [],
   "source": [
    "from utils.NeuralNet import TwoLayerFCNN\n",
    "\n",
    "import torch\n",
    "from torch import nn\n",
    "from torch import optim\n",
    "from torch.utils.data import DataLoader, TensorDataset\n",
    "\n",
    "import numpy as np\n",
    "\n",
    "from sklearn.model_selection import train_test_split"
   ]
  },
  {
   "cell_type": "code",
   "execution_count": 2,
   "metadata": {},
   "outputs": [],
   "source": [
    "# Load the housing data\n",
    "housedata = np.loadtxt('data\\\\readyhousedata.txt', delimiter=',')\n",
    "\n",
    "# Separate features and target\n",
    "X = housedata[:, :-1]\n",
    "y = housedata[:, -1]\n",
    "\n",
    "# Convert data to PyTorch tensors\n",
    "X_tensor = torch.tensor(X, dtype=torch.float32)\n",
    "y_tensor = torch.tensor(y, dtype=torch.float32)\n",
    "\n",
    "# Split dara\n",
    "X_train, X_test, y_train, y_test = train_test_split(X_tensor, y_tensor, test_size=0.2, random_state=42)\n",
    "\n",
    "# Get the number of samples and features from the training set\n",
    "n_samples, n_features = X_train.shape\n",
    "hidden_size = 64\n",
    "batch_size = 32\n",
    "\n",
    "# Data loader\n",
    "train_data = TensorDataset(X_train, y_train)\n",
    "train_loader = DataLoader(train_data, batch_size=batch_size, shuffle=True)\n",
    "\n",
    "# Create test data loader for evaluation\n",
    "test_data = TensorDataset(X_test, y_test)\n",
    "test_loader = DataLoader(test_data, batch_size=batch_size, shuffle=False)\n"
   ]
  },
  {
   "cell_type": "code",
   "execution_count": 3,
   "metadata": {},
   "outputs": [],
   "source": [
    "lr = 0.001\n",
    "num_epochs = 100\n",
    "\n",
    "model = TwoLayerFCNN(\n",
    "    batch_size=batch_size,\n",
    "    lr=lr,\n",
    "    n_epochs=num_epochs,\n",
    "    input_size=n_features, \n",
    "    hidden_size=hidden_size)"
   ]
  },
  {
   "cell_type": "code",
   "execution_count": 12,
   "metadata": {},
   "outputs": [
    {
     "name": "stdout",
     "output_type": "stream",
     "text": [
      "Epoch [1/100], Loss: 589.2865\n",
      "Epoch [2/100], Loss: 578.9560\n",
      "Epoch [3/100], Loss: 567.0734\n",
      "Epoch [4/100], Loss: 545.7912\n",
      "Epoch [5/100], Loss: 522.1518\n",
      "Epoch [6/100], Loss: 492.9188\n",
      "Epoch [7/100], Loss: 466.6120\n",
      "Epoch [8/100], Loss: 419.2822\n",
      "Epoch [9/100], Loss: 384.1954\n",
      "Epoch [10/100], Loss: 339.9003\n",
      "Epoch [11/100], Loss: 301.2170\n",
      "Epoch [12/100], Loss: 260.9436\n",
      "Epoch [13/100], Loss: 227.6045\n",
      "Epoch [14/100], Loss: 199.3788\n",
      "Epoch [15/100], Loss: 175.6837\n",
      "Epoch [16/100], Loss: 160.9123\n",
      "Epoch [17/100], Loss: 146.2024\n",
      "Epoch [18/100], Loss: 138.1552\n",
      "Epoch [19/100], Loss: 131.5539\n",
      "Epoch [20/100], Loss: 126.4322\n",
      "Epoch [21/100], Loss: 120.0817\n",
      "Epoch [22/100], Loss: 117.0135\n",
      "Epoch [23/100], Loss: 113.3876\n",
      "Epoch [24/100], Loss: 110.2291\n",
      "Epoch [25/100], Loss: 107.0637\n",
      "Epoch [26/100], Loss: 102.6948\n",
      "Epoch [27/100], Loss: 100.0828\n",
      "Epoch [28/100], Loss: 96.4322\n",
      "Epoch [29/100], Loss: 92.7767\n",
      "Epoch [30/100], Loss: 88.4146\n",
      "Epoch [31/100], Loss: 86.6785\n",
      "Epoch [32/100], Loss: 82.6304\n",
      "Epoch [33/100], Loss: 79.7147\n",
      "Epoch [34/100], Loss: 77.7914\n",
      "Epoch [35/100], Loss: 76.5535\n",
      "Epoch [36/100], Loss: 73.0925\n",
      "Epoch [37/100], Loss: 69.5293\n",
      "Epoch [38/100], Loss: 67.8171\n",
      "Epoch [39/100], Loss: 66.2110\n",
      "Epoch [40/100], Loss: 63.9078\n",
      "Epoch [41/100], Loss: 65.3253\n",
      "Epoch [42/100], Loss: 62.9311\n",
      "Epoch [43/100], Loss: 60.1251\n",
      "Epoch [44/100], Loss: 59.8328\n",
      "Epoch [45/100], Loss: 59.5718\n",
      "Epoch [46/100], Loss: 56.1099\n",
      "Epoch [47/100], Loss: 56.3121\n",
      "Epoch [48/100], Loss: 53.8385\n",
      "Epoch [49/100], Loss: 52.6904\n",
      "Epoch [50/100], Loss: 53.7430\n",
      "Epoch [51/100], Loss: 51.6067\n",
      "Epoch [52/100], Loss: 52.2101\n",
      "Epoch [53/100], Loss: 50.1967\n",
      "Epoch [54/100], Loss: 52.0390\n",
      "Epoch [55/100], Loss: 50.1126\n",
      "Epoch [56/100], Loss: 47.9336\n",
      "Epoch [57/100], Loss: 48.0799\n",
      "Epoch [58/100], Loss: 46.8997\n",
      "Epoch [59/100], Loss: 46.5471\n",
      "Epoch [60/100], Loss: 46.2793\n",
      "Epoch [61/100], Loss: 45.9703\n",
      "Epoch [62/100], Loss: 45.4812\n",
      "Epoch [63/100], Loss: 44.3948\n",
      "Epoch [64/100], Loss: 45.2301\n",
      "Epoch [65/100], Loss: 45.1946\n",
      "Epoch [66/100], Loss: 43.7484\n",
      "Epoch [67/100], Loss: 42.9225\n",
      "Epoch [68/100], Loss: 41.7227\n",
      "Epoch [69/100], Loss: 42.4815\n",
      "Epoch [70/100], Loss: 40.4680\n",
      "Epoch [71/100], Loss: 40.2559\n",
      "Epoch [72/100], Loss: 41.6071\n",
      "Epoch [73/100], Loss: 40.5293\n",
      "Epoch [74/100], Loss: 39.0603\n",
      "Epoch [75/100], Loss: 38.7992\n",
      "Epoch [76/100], Loss: 38.6888\n",
      "Epoch [77/100], Loss: 38.7650\n",
      "Epoch [78/100], Loss: 38.2337\n",
      "Epoch [79/100], Loss: 36.8283\n",
      "Epoch [80/100], Loss: 36.6888\n",
      "Epoch [81/100], Loss: 36.5103\n",
      "Epoch [82/100], Loss: 36.3327\n",
      "Epoch [83/100], Loss: 35.3230\n",
      "Epoch [84/100], Loss: 35.6351\n",
      "Epoch [85/100], Loss: 34.3662\n",
      "Epoch [86/100], Loss: 34.6114\n",
      "Epoch [87/100], Loss: 33.5200\n",
      "Epoch [88/100], Loss: 33.3159\n",
      "Epoch [89/100], Loss: 33.9365\n",
      "Epoch [90/100], Loss: 32.5503\n",
      "Epoch [91/100], Loss: 32.6713\n",
      "Epoch [92/100], Loss: 32.9016\n",
      "Epoch [93/100], Loss: 32.0042\n",
      "Epoch [94/100], Loss: 32.8807\n",
      "Epoch [95/100], Loss: 32.5610\n",
      "Epoch [96/100], Loss: 31.7586\n",
      "Epoch [97/100], Loss: 30.8801\n",
      "Epoch [98/100], Loss: 30.4247\n",
      "Epoch [99/100], Loss: 30.6661\n",
      "Epoch [100/100], Loss: 30.3504\n"
     ]
    }
   ],
   "source": [
    "model.fit_adam(X_train, y_train)"
   ]
  },
  {
   "cell_type": "code",
   "execution_count": 13,
   "metadata": {},
   "outputs": [
    {
     "data": {
      "text/plain": [
       "18.04213547706604"
      ]
     },
     "execution_count": 13,
     "metadata": {},
     "output_type": "execute_result"
    }
   ],
   "source": [
    "model.evaluate(X_test, y_test)"
   ]
  },
  {
   "cell_type": "code",
   "execution_count": 10,
   "metadata": {},
   "outputs": [],
   "source": [
    "model.reset()"
   ]
  }
 ],
 "metadata": {
  "kernelspec": {
   "display_name": ".venv",
   "language": "python",
   "name": "python3"
  },
  "language_info": {
   "codemirror_mode": {
    "name": "ipython",
    "version": 3
   },
   "file_extension": ".py",
   "mimetype": "text/x-python",
   "name": "python",
   "nbconvert_exporter": "python",
   "pygments_lexer": "ipython3",
   "version": "3.10.11"
  }
 },
 "nbformat": 4,
 "nbformat_minor": 2
}
